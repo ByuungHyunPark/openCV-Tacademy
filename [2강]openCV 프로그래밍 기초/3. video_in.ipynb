{
 "cells": [
  {
   "cell_type": "code",
   "execution_count": 2,
   "metadata": {},
   "outputs": [
    {
     "name": "stdout",
     "output_type": "stream",
     "text": [
      "Frame width :  768\n",
      "Frame width :  576\n",
      "Frame width :  795\n",
      "FPS :  10\n"
     ]
    }
   ],
   "source": [
    "import sys\n",
    "import cv2\n",
    "\n",
    "#동영상 파일로부터 cv2.VideoCapture 객체 생성\n",
    "cap = cv2.VideoCapture('vtest.avi')\n",
    "\n",
    "if not cap.isOpened():\n",
    "    print(\"Camera open failed!\")\n",
    "    sys.exit()\n",
    "    \n",
    "# 프레임 해상도, 전체 프레임 수, FPS 출력\n",
    "print('Frame width : ', round(cap.get(cv2.CAP_PROP_FRAME_WIDTH)))\n",
    "print('Frame width : ', round(cap.get(cv2.CAP_PROP_FRAME_HEIGHT)))\n",
    "print('Frame width : ', round(cap.get(cv2.CAP_PROP_FRAME_COUNT)))\n",
    "\n",
    "fps = round(cap.get(cv2.CAP_PROP_FPS))\n",
    "print('FPS : ', fps)\n",
    "\n",
    "delay = round(1000 / fps)\n",
    "\n",
    "\n",
    "# 매 프레임 처리 및 화면 출력\n",
    "while True:\n",
    "    ret, frame = cap.read()\n",
    "    \n",
    "    if not ret:\n",
    "        break\n",
    "     \n",
    "    #canny edge detection 임계값 바꿔가면서 진행\n",
    "    edge1 = cv2.Canny(frame, 50, 150)\n",
    "    edge2 = cv2.Canny(frame, 50, 150)\n",
    "    edge3 = cv2.Canny(frame, 50, 150)\n",
    "    \n",
    "    cv2.imshow('frame', frame)\n",
    "    cv2.imshow('edge', edge)\n",
    "    \n",
    "    if cv2.waitKey(delay) == 27:\n",
    "        break\n",
    "        \n",
    "# 자원 해제\n",
    "cap.release()\n",
    "cv2.destroyAllWindows()"
   ]
  }
 ],
 "metadata": {
  "kernelspec": {
   "display_name": "Python 3",
   "language": "python",
   "name": "python3"
  },
  "language_info": {
   "codemirror_mode": {
    "name": "ipython",
    "version": 3
   },
   "file_extension": ".py",
   "mimetype": "text/x-python",
   "name": "python",
   "nbconvert_exporter": "python",
   "pygments_lexer": "ipython3",
   "version": "3.8.5"
  }
 },
 "nbformat": 4,
 "nbformat_minor": 4
}
