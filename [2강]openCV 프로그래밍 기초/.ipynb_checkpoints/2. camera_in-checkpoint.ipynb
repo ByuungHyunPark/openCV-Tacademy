{
 "cells": [
  {
   "cell_type": "markdown",
   "metadata": {},
   "source": [
    "# 1. camera_in\n",
    "- 내장 카메라를 이용한 객체 cv2 video 생성"
   ]
  },
  {
   "cell_type": "code",
   "execution_count": 6,
   "metadata": {},
   "outputs": [],
   "source": [
    "import cv2\n",
    "import sys"
   ]
  },
  {
   "cell_type": "code",
   "execution_count": 5,
   "metadata": {},
   "outputs": [
    {
     "name": "stdout",
     "output_type": "stream",
     "text": [
      "Frame width: 640\n",
      "Frame height: 480\n"
     ]
    }
   ],
   "source": [
    "import sys\n",
    "import cv2\n",
    "\n",
    "# 카메라로부터 cv2.VideoCapture 객체 생성\n",
    "cap = cv2.VideoCapture(0)\n",
    "\n",
    "if not cap.isOpened():\n",
    "    print(\"Camera open failed!\")\n",
    "    sys.exit()\n",
    "\n",
    "# 프레임 해상도 출력\n",
    "print('Frame width:', round(cap.get(cv2.CAP_PROP_FRAME_WIDTH)))\n",
    "print('Frame height:', round(cap.get(cv2.CAP_PROP_FRAME_HEIGHT)))\n",
    "\n",
    "# 매 프레임 처리 및 화면 출력\n",
    "while True:\n",
    "    ret, frame = cap.read()\n",
    "\n",
    "    if not ret:\n",
    "        break\n",
    "\n",
    "    edge = cv2.Canny(frame, 50, 150)\n",
    "\n",
    "    cv2.imshow('frame', frame)\n",
    "    cv2.imshow('edge', edge)\n",
    "\n",
    "    # ASCII Code 27 : ESC => ESC 누르면 종료\n",
    "    if cv2.waitKey(10) == 27:\n",
    "        break\n",
    "\n",
    "# 자원 해제\n",
    "\n",
    "cap.release()\n",
    "cv2.destroyAllWindows()"
   ]
  }
 ],
 "metadata": {
  "kernelspec": {
   "display_name": "Python 3",
   "language": "python",
   "name": "python3"
  },
  "language_info": {
   "codemirror_mode": {
    "name": "ipython",
    "version": 3
   },
   "file_extension": ".py",
   "mimetype": "text/x-python",
   "name": "python",
   "nbconvert_exporter": "python",
   "pygments_lexer": "ipython3",
   "version": "3.8.5"
  }
 },
 "nbformat": 4,
 "nbformat_minor": 4
}
