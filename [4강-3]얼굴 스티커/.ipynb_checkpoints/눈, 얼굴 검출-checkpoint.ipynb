{
 "cells": [
  {
   "cell_type": "markdown",
   "metadata": {},
   "source": [
    "##### Haarcascade Classifier 를 활용한 눈, 코, 잎 검출"
   ]
  },
  {
   "cell_type": "code",
   "execution_count": 6,
   "metadata": {},
   "outputs": [],
   "source": [
    "import cv2\n",
    "import sys\n",
    "import matplotlib.pyplot as plt\n",
    "import numpy as np\n",
    "\n",
    "faceCascade = cv2.CascadeClassifier('haarcascade_frontalface_default.xml')\n",
    "eyeCascade = cv2.CascadeClassifier('haarcascade_eye.xml')"
   ]
  },
  {
   "cell_type": "markdown",
   "metadata": {},
   "source": [
    "##### 그레이 스케일 이미지를 입력 받고, 그 이미지에서 얼굴을 찾은 후, 얼굴 부분에서 눈을 찾기"
   ]
  },
  {
   "cell_type": "code",
   "execution_count": 7,
   "metadata": {},
   "outputs": [],
   "source": [
    "# def = harr를 이용 얼굴과 눈을 찾는 함수\n",
    "# input = 그레이 스케일 이미지\n",
    "# output = 얼굴과 눈에 사각형이 그려진 이미지 프레인\n",
    "\n",
    "def detect(gray, frame):\n",
    "    \n",
    "    faces = faceCascade.detectMultiScale(gray, scaleFactor = 1.05,\n",
    "                                        minNeighbors = 5,\n",
    "                                        minSize = (100, 100),\n",
    "                                        flags = cv2.CASCADE_SCALE_IMAGE)\n",
    "    \n",
    "    # 얼굴에 사각형을 그리고 눈을 찾기\n",
    "    for (x, y, w, h) in faces:\n",
    "        # 얼굴 : 이미지 프레임에 (x,y)에서 시작, (x+넓이, y+길이)까지의 사각형을 그림(색 255 0 0, 굵기 2)\n",
    "        cv2.rectangle(frame, (x, y), (x + w, y + h), (255, 0, 0),2)\n",
    "        \n",
    "        # 이미지를 얼굴 크기 만큼 잘라서 그레이스케일 이미지와 컬러이미지를 만듦\n",
    "        face_gray = gray[y : y+h, x : x+w]\n",
    "        face_color = frame[y:y+h, x:x+w]\n",
    "        \n",
    "        #등록한 Cascade classifier를 이용하여 눈을 찾음(얼굴 영역에서만)\n",
    "        eyes = eyeCascade.detectMultiScale(face_gray, 1.1, 3)\n",
    "        \n",
    "        # 눈 : 이미지 프레임에 (x, y)에서 시작, (x+넓이, y+길이)까지의 사각형을 그림(색 0 255 0, 굵기 2)\n",
    "        for (ex, ey, ew, eh) in eyes:\n",
    "            cv2.rectangle(face_color, (ex, ey), (ex + ew, ey + eh), (0, 255, 0), 2)\n",
    "            \n",
    "    return frame\n",
    "\n",
    "# 웹캠에서 이미지 가져오기\n",
    "video_capture = cv2.VideoCapture(0)\n",
    "\n",
    "while True:\n",
    "    # 웹캠 이미지를 프레임으로 자름\n",
    "    _, frame = video_capture.read()\n",
    "\n",
    "    #그리고 이미지를 그레이스케일로 변환\n",
    "    gray = cv2.cvtColor(frame, cv2.COLOR_BGR2GRAY)\n",
    "    \n",
    "    #만들어준 얼굴 눈 찾기\n",
    "    canvas = detect(gray, frame)\n",
    "    \n",
    "    #찾은 이미지 보여주기\n",
    "    cv2.imshow('haha', canvas)\n",
    "    \n",
    "    # ESC를 누르면 종료\n",
    "    if cv2.waitKey(1) == 27:\n",
    "        break\n",
    "\n",
    "# 종료\n",
    "video_capture.release()\n",
    "cv2.destroyAllWindows()"
   ]
  }
 ],
 "metadata": {
  "kernelspec": {
   "display_name": "Python 3",
   "language": "python",
   "name": "python3"
  },
  "language_info": {
   "codemirror_mode": {
    "name": "ipython",
    "version": 3
   },
   "file_extension": ".py",
   "mimetype": "text/x-python",
   "name": "python",
   "nbconvert_exporter": "python",
   "pygments_lexer": "ipython3",
   "version": "3.8.5"
  }
 },
 "nbformat": 4,
 "nbformat_minor": 4
}
